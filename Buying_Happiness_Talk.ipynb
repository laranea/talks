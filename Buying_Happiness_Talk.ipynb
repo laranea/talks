{
 "cells": [
  {
   "cell_type": "markdown",
   "metadata": {
    "slideshow": {
     "slide_type": "slide"
    }
   },
   "source": [
    "<center>\n",
    "    <h1>Buying Happiness</h1>\n",
    "    <h2>Using Word2Vec to Turn Feelings Into Trades</h2>\n",
    "    <img src=\"./images/comedy_tragedy.png\" alt=\"Happiness\" style=\"width: 400px;\">\n",
    "    <h4>Max Margenot</h4>\n",
    "    <h4>Lead Data Scientist at Quantopian</h4>\n",
    "</center>"
   ]
  },
  {
   "cell_type": "markdown",
   "metadata": {
    "slideshow": {
     "slide_type": "slide"
    }
   },
   "source": [
    "*This presentation is for informational purposes only and does not constitute an offer to sell, a solicitation to buy, or a recommendation for any security; nor does it constitute an offer to provide investment advisory or other services by Quantopian, Inc. (\"Quantopian\"). Nothing contained herein constitutes investment advice or offers any opinion with respect to the suitability of any security, and any views expressed herein should not be taken as advice to buy, sell, or hold any security or as an endorsement of any security or company. In preparing the information contained herein, Quantopian, Inc. has not taken into account the investment needs, objectives, and financial circumstances of any particular investor. Any views expressed and data illustrated herein were prepared based upon information, believed to be reliable, available to Quantopian, Inc. at the time of publication. Quantopian makes no guarantees as to their accuracy or completeness. All information is subject to change and may quickly become unreliable for various reasons, including changes in market conditions or economic circumstances.*"
   ]
  },
  {
   "cell_type": "markdown",
   "metadata": {
    "slideshow": {
     "slide_type": "slide"
    }
   },
   "source": [
    "# Background\n",
    "\n",
    "* Me"
   ]
  },
  {
   "cell_type": "markdown",
   "metadata": {
    "slideshow": {
     "slide_type": "slide"
    }
   },
   "source": [
    "# Unstructured Data\n",
    "\n",
    "Key source of \"alpha\""
   ]
  },
  {
   "cell_type": "markdown",
   "metadata": {
    "slideshow": {
     "slide_type": "slide"
    }
   },
   "source": [
    "# Natural Language Processing (NLP)\n",
    "\n",
    "Computer science and linguistics tools to interpret human language and text\n",
    "\n",
    "Allows us to quantify unstructured text"
   ]
  },
  {
   "cell_type": "markdown",
   "metadata": {
    "slideshow": {
     "slide_type": "slide"
    }
   },
   "source": [
    "# Data Processing\n",
    "\n",
    "* Stopwords\n",
    "* Stemming\n",
    "* Tokenization"
   ]
  },
  {
   "cell_type": "markdown",
   "metadata": {
    "slideshow": {
     "slide_type": "slide"
    }
   },
   "source": [
    "# Feature Generation"
   ]
  },
  {
   "cell_type": "markdown",
   "metadata": {
    "slideshow": {
     "slide_type": "fragment"
    }
   },
   "source": [
    "## Bag of Words"
   ]
  },
  {
   "cell_type": "markdown",
   "metadata": {
    "slideshow": {
     "slide_type": "fragment"
    }
   },
   "source": [
    "### Unigrams"
   ]
  },
  {
   "cell_type": "code",
   "execution_count": 13,
   "metadata": {
    "slideshow": {
     "slide_type": "-"
    }
   },
   "outputs": [
    {
     "data": {
      "text/plain": [
       "[['Show', 'me', 'the', 'alpha'], ['Carthago', 'delenda', 'est']]"
      ]
     },
     "execution_count": 13,
     "metadata": {},
     "output_type": "execute_result"
    }
   ],
   "source": [
    "my_phrases = ['Show me the alpha', 'Carthago delenda est',]\n",
    "[phrase.split(' ') for phrase in my_phrases]"
   ]
  },
  {
   "cell_type": "markdown",
   "metadata": {
    "slideshow": {
     "slide_type": "fragment"
    }
   },
   "source": [
    "### Bigrams"
   ]
  },
  {
   "cell_type": "code",
   "execution_count": 10,
   "metadata": {
    "slideshow": {
     "slide_type": "-"
    }
   },
   "outputs": [
    {
     "data": {
      "text/plain": [
       "[('Show', 'me'),\n",
       " ('me', 'the'),\n",
       " ('the', 'alpha'),\n",
       " ('Carthago', 'delenda'),\n",
       " ('delenda', 'est')]"
      ]
     },
     "execution_count": 10,
     "metadata": {},
     "output_type": "execute_result"
    }
   ],
   "source": [
    "[word for phrase \n",
    " in my_phrases for word\n",
    "     in zip(phrase.split(' ')[:-1], phrase.split(' ')[1:])]"
   ]
  },
  {
   "cell_type": "markdown",
   "metadata": {
    "slideshow": {
     "slide_type": "slide"
    }
   },
   "source": [
    "# Feature Generation\n",
    "\n",
    "## Word Embeddings"
   ]
  },
  {
   "cell_type": "code",
   "execution_count": 3,
   "metadata": {
    "collapsed": true,
    "slideshow": {
     "slide_type": "skip"
    }
   },
   "outputs": [],
   "source": [
    "import gensim\n",
    "w2v = gensim.models.Word2Vec.load('../../sensitivipy/d2v')"
   ]
  },
  {
   "cell_type": "code",
   "execution_count": 9,
   "metadata": {
    "slideshow": {
     "slide_type": "fragment"
    }
   },
   "outputs": [
    {
     "name": "stdout",
     "output_type": "stream",
     "text": [
      "[ -1.89863455e+00  -1.54665136e+00  -2.23204970e+00  -1.30877733e+00\n",
      "  -2.30061579e+00  -1.70134628e+00   1.83337653e+00  -2.08741140e+00\n",
      "   3.23724604e+00   1.26184821e+00  -9.99662220e-01  -4.37552959e-01\n",
      "   4.40503418e-01   1.19143569e+00  -2.29179478e+00  -1.86814177e+00\n",
      "   3.11535645e+00   1.62474096e+00   2.66866231e+00   2.83645630e+00\n",
      "  -1.28488052e+00   1.35040748e+00   1.01865172e+00  -4.80658680e-01\n",
      "   4.23388511e-01  -1.65452003e+00   9.91536558e-01   2.40602851e+00\n",
      "  -7.76076317e-01   1.94842303e+00   7.72831738e-01   7.38338292e-01\n",
      "  -2.83442521e+00   6.60653114e-01   1.49878132e+00   6.51400387e-01\n",
      "  -2.40639806e+00  -1.07167780e+00  -1.02165806e+00   9.60173905e-01\n",
      "   2.21353650e+00  -1.42129743e+00  -9.27708030e-01  -3.88164580e-01\n",
      "   1.46669912e+00   8.52385104e-01   5.12198329e-01  -4.31529015e-01\n",
      "   2.94047624e-01   1.53495061e+00   2.58021164e+00  -5.14630191e-02\n",
      "  -1.65423024e+00   1.98876739e+00  -3.05596733e+00   4.68582273e-01\n",
      "  -7.30318785e-01  -2.12546796e-01   2.40485692e+00   2.02279878e+00\n",
      "   1.17719293e+00   2.86357617e+00   7.22466826e-01   2.82972664e-01\n",
      "  -7.58317888e-01   3.47945952e+00   3.73739266e+00   1.42169583e+00\n",
      "  -7.90117681e-01   1.84042037e+00   1.98835433e+00   1.78161597e+00\n",
      "   2.36412417e-03  -4.24685836e-01  -1.56673503e+00   1.27409828e+00\n",
      "  -7.06087649e-01   5.39561808e-01  -2.57677864e-02  -2.28654718e+00\n",
      "  -1.61694837e+00   1.12416410e+00   1.56511533e+00   9.97117162e-01\n",
      "  -1.62680793e+00  -5.11504531e-01   2.35140419e+00   2.85187773e-02\n",
      "   9.96020317e-01   2.01621875e-01  -2.27278137e+00  -8.56919646e-01\n",
      "  -1.24364936e+00   1.93653297e+00  -1.74209273e+00  -2.66480112e+00\n",
      "  -1.75437510e+00  -2.04358786e-01  -3.64142150e-01   2.14454412e+00]\n"
     ]
    }
   ],
   "source": [
    "print(w2v.wv['sad'])"
   ]
  },
  {
   "cell_type": "code",
   "execution_count": 231,
   "metadata": {
    "collapsed": true,
    "slideshow": {
     "slide_type": "skip"
    }
   },
   "outputs": [],
   "source": [
    "import pandas as pd\n",
    "#wv_df = pd.DataFrame.from_dict({k : w2v.wv[k] for k in w2v.wv.vocab.keys()}, orient='index')\n",
    "from sklearn.manifold import TSNE\n",
    "from sklearn.cluster import DBSCAN\n",
    "from sklearn.preprocessing import StandardScaler\n",
    "scaled_wv_df = StandardScaler().fit_transform(wv_df)\n",
    "clustered_wv_df = DBSCAN(eps=0.3, min_samples=5, metric='cosine').fit(scaled_wv_df)\n",
    "#clustered_wv_df = DBSCAN(eps=0.2, min_samples=3, metric='cosine').fit(scaled_wv_df)\n",
    "#dim_red = TSNE().fit_transform(wv_df)"
   ]
  },
  {
   "cell_type": "code",
   "execution_count": 233,
   "metadata": {
    "scrolled": true,
    "slideshow": {
     "slide_type": "skip"
    }
   },
   "outputs": [
    {
     "name": "stdout",
     "output_type": "stream",
     "text": [
      "-1 tri 16054\n",
      "0 mum 83\n",
      "1 disappoint 24\n",
      "2 nã£o 6338\n",
      "3 you 9\n",
      "4 midnight 195\n",
      "5 soo 7\n",
      "6 hour 37\n",
      "7 can 52\n",
      "8 work 83\n",
      "9 cool 9\n",
      "10 tweet 18\n",
      "11 19th 56\n",
      "12 park 395\n",
      "13 best 23\n",
      "14 good 10\n",
      "15 but 9\n",
      "16 more 50\n",
      "17 windi 27\n",
      "18 wht 7\n",
      "19 wednesday 9\n",
      "20 tennant 8\n",
      "21 episod 6\n",
      "22 ive 23\n",
      "23 pl 8\n",
      "24 franc 6\n",
      "25 yay 11\n",
      "26 kid 4\n",
      "27 dentist 8\n",
      "28 hang 10\n",
      "29 med 10\n",
      "30 loong 7\n",
      "31 unchart 9\n",
      "32 atheist 28\n",
      "33 actor 6\n",
      "34 effin 6\n",
      "35 media 7\n",
      "36 tv 5\n",
      "37 awesom 7\n",
      "38 ma 4\n",
      "39 w 11\n",
      "40 load 9\n",
      "41 jersey 16\n",
      "42 stream 5\n",
      "43 couch 12\n",
      "44 million 5\n",
      "45 iplay 4\n",
      "46 bak 5\n",
      "47 reali 7\n",
      "48 somth 5\n",
      "49 30min 7\n",
      "50 tax 5\n",
      "51 threw 4\n",
      "52 info 5\n",
      "53 sorryy 4\n",
      "54 anyon 5\n",
      "55 wait 12\n",
      "56 upand 4\n",
      "57 toni 4\n",
      "58 european 5\n",
      "59 ferri 5\n",
      "60 sfo 4\n",
      "61 4yr 8\n",
      "62 hyde 5\n",
      "63 needless 4\n"
     ]
    }
   ],
   "source": [
    "for label in np.unique(clustered_wv_df.labels_):\n",
    "    print(label, wv_df[clustered_wv_df.labels_==label].index[0], len(wv_df[clustered_wv_df.labels_==label]))"
   ]
  },
  {
   "cell_type": "code",
   "execution_count": 186,
   "metadata": {
    "collapsed": true,
    "slideshow": {
     "slide_type": "skip"
    }
   },
   "outputs": [],
   "source": [
    "import matplotlib.pyplot as plt\n",
    "import matplotlib.patches as mpatches\n",
    "def plot_embedded_clusters(embedding, labels, legend=None, include_noisy_points=False):\n",
    "    plt.figure(figsize=(13,9))\n",
    "    unique_labels = np.unique(labels)\n",
    "    n_clusters_ = len(unique_labels) - (1 if -1 in labels else 0)\n",
    "    colors = [plt.cm.Spectral(each) for each in np.linspace(0, 1, len(unique_labels))]\n",
    "    handles = []\n",
    "    np.random.shuffle(unique_labels)\n",
    "    for label, c in zip(unique_labels, colors):\n",
    "        if label == -1:\n",
    "            c = [0, 0, 0, 1]\n",
    "            if not include_noisy_points:\n",
    "                continue\n",
    "        plt.scatter(embedding[labels==label, 0], embedding[labels==label,1], alpha=0.05, color=c)\n",
    "        \n",
    "        if legend and (label in legend):\n",
    "            handles.append(\n",
    "                mpatches.Patch(\n",
    "                    color=c,\n",
    "                    label='Words Similar to: {0}'.format(wv_df[clustered_wv_df.labels_==label].index[0])\n",
    "                )\n",
    "            )\n",
    "            plt.scatter(embedding[labels==label, 0], embedding[labels==label,1], alpha=0.80, color=c, marker='x');\n",
    "    if legend:\n",
    "        plt.legend(handles=handles);\n",
    "    \n",
    "    plt.title('%d Clusters Embedded in 2d' % n_clusters_);\n",
    "    plt.show()"
   ]
  },
  {
   "cell_type": "markdown",
   "metadata": {
    "slideshow": {
     "slide_type": "slide"
    }
   },
   "source": [
    "# Feature Generation\n",
    "\n",
    "## Word Embeddings"
   ]
  },
  {
   "cell_type": "code",
   "execution_count": 5,
   "metadata": {
    "slideshow": {
     "slide_type": "-"
    }
   },
   "outputs": [
    {
     "data": {
      "text/plain": [
       "[('upset', 0.815515398979187),\n",
       " ('depress', 0.7984983921051025),\n",
       " ('bum', 0.7161489725112915),\n",
       " ('devast', 0.7080429792404175),\n",
       " ('disappoint', 0.6943762302398682),\n",
       " ('angri', 0.658515453338623),\n",
       " ('sadd', 0.6404643058776855),\n",
       " ('embarrass', 0.6364743709564209),\n",
       " ('gut', 0.6311415433883667),\n",
       " ('unhappi', 0.6310410499572754)]"
      ]
     },
     "execution_count": 5,
     "metadata": {},
     "output_type": "execute_result"
    }
   ],
   "source": [
    "w2v.wv.most_similar('sad')"
   ]
  },
  {
   "cell_type": "code",
   "execution_count": 243,
   "metadata": {
    "slideshow": {
     "slide_type": "slide"
    }
   },
   "outputs": [
    {
     "data": {
      "image/png": "[encoded data removed]",
      "text/plain": [
       "<matplotlib.figure.Figure at 0x13ed2d748>"
      ]
     },
     "metadata": {},
     "output_type": "display_data"
    }
   ],
   "source": [
    "plot_embedded_clusters(dim_red, clustered_wv_df.labels_, legend=[1, 8, 12, 32])"
   ]
  },
  {
   "cell_type": "code",
   "execution_count": 245,
   "metadata": {
    "slideshow": {
     "slide_type": "slide"
    }
   },
   "outputs": [
    {
     "data": {
      "text/html": [
       "<div>\n",
       "<style>\n",
       "    .dataframe thead tr:only-child th {\n",
       "        text-align: right;\n",
       "    }\n",
       "\n",
       "    .dataframe thead th {\n",
       "        text-align: left;\n",
       "    }\n",
       "\n",
       "    .dataframe tbody tr th {\n",
       "        vertical-align: top;\n",
       "    }\n",
       "</style>\n",
       "<table border=\"1\" class=\"dataframe\">\n",
       "  <thead>\n",
       "    <tr style=\"text-align: right;\">\n",
       "      <th></th>\n",
       "      <th>0</th>\n",
       "      <th>1</th>\n",
       "      <th>2</th>\n",
       "      <th>3</th>\n",
       "      <th>4</th>\n",
       "      <th>5</th>\n",
       "      <th>6</th>\n",
       "      <th>7</th>\n",
       "      <th>8</th>\n",
       "      <th>9</th>\n",
       "      <th>...</th>\n",
       "      <th>90</th>\n",
       "      <th>91</th>\n",
       "      <th>92</th>\n",
       "      <th>93</th>\n",
       "      <th>94</th>\n",
       "      <th>95</th>\n",
       "      <th>96</th>\n",
       "      <th>97</th>\n",
       "      <th>98</th>\n",
       "      <th>99</th>\n",
       "    </tr>\n",
       "  </thead>\n",
       "  <tbody>\n",
       "    <tr>\n",
       "      <th>disappoint</th>\n",
       "      <td>-0.235032</td>\n",
       "      <td>-1.696048</td>\n",
       "      <td>-0.039209</td>\n",
       "      <td>-1.006235</td>\n",
       "      <td>-0.968943</td>\n",
       "      <td>0.117551</td>\n",
       "      <td>2.012763</td>\n",
       "      <td>-1.500448</td>\n",
       "      <td>0.371111</td>\n",
       "      <td>-0.103024</td>\n",
       "      <td>...</td>\n",
       "      <td>-1.867966</td>\n",
       "      <td>0.366410</td>\n",
       "      <td>-1.687534</td>\n",
       "      <td>1.776099</td>\n",
       "      <td>-0.001948</td>\n",
       "      <td>-0.942753</td>\n",
       "      <td>-0.323758</td>\n",
       "      <td>0.418799</td>\n",
       "      <td>0.703646</td>\n",
       "      <td>0.675984</td>\n",
       "    </tr>\n",
       "    <tr>\n",
       "      <th>annoy</th>\n",
       "      <td>-0.509595</td>\n",
       "      <td>-0.234477</td>\n",
       "      <td>-0.105023</td>\n",
       "      <td>0.782759</td>\n",
       "      <td>-0.494718</td>\n",
       "      <td>1.529665</td>\n",
       "      <td>0.613385</td>\n",
       "      <td>-2.956682</td>\n",
       "      <td>1.914651</td>\n",
       "      <td>1.837232</td>\n",
       "      <td>...</td>\n",
       "      <td>0.357051</td>\n",
       "      <td>-0.184894</td>\n",
       "      <td>-0.765359</td>\n",
       "      <td>0.194613</td>\n",
       "      <td>-0.089562</td>\n",
       "      <td>-0.790999</td>\n",
       "      <td>-0.715266</td>\n",
       "      <td>1.710391</td>\n",
       "      <td>-0.664831</td>\n",
       "      <td>0.446600</td>\n",
       "    </tr>\n",
       "    <tr>\n",
       "      <th>sad</th>\n",
       "      <td>-1.898635</td>\n",
       "      <td>-1.546651</td>\n",
       "      <td>-2.232050</td>\n",
       "      <td>-1.308777</td>\n",
       "      <td>-2.300616</td>\n",
       "      <td>-1.701346</td>\n",
       "      <td>1.833377</td>\n",
       "      <td>-2.087411</td>\n",
       "      <td>3.237246</td>\n",
       "      <td>1.261848</td>\n",
       "      <td>...</td>\n",
       "      <td>-2.272781</td>\n",
       "      <td>-0.856920</td>\n",
       "      <td>-1.243649</td>\n",
       "      <td>1.936533</td>\n",
       "      <td>-1.742093</td>\n",
       "      <td>-2.664801</td>\n",
       "      <td>-1.754375</td>\n",
       "      <td>-0.204359</td>\n",
       "      <td>-0.364142</td>\n",
       "      <td>2.144544</td>\n",
       "    </tr>\n",
       "    <tr>\n",
       "      <th>upset</th>\n",
       "      <td>-2.267228</td>\n",
       "      <td>-1.130764</td>\n",
       "      <td>-0.789428</td>\n",
       "      <td>-0.307305</td>\n",
       "      <td>-1.913559</td>\n",
       "      <td>-1.307800</td>\n",
       "      <td>1.678527</td>\n",
       "      <td>-2.597203</td>\n",
       "      <td>1.749868</td>\n",
       "      <td>-0.047062</td>\n",
       "      <td>...</td>\n",
       "      <td>-1.734596</td>\n",
       "      <td>0.064607</td>\n",
       "      <td>-2.011217</td>\n",
       "      <td>0.364249</td>\n",
       "      <td>-1.385140</td>\n",
       "      <td>-1.366344</td>\n",
       "      <td>-0.929015</td>\n",
       "      <td>0.583783</td>\n",
       "      <td>-0.106717</td>\n",
       "      <td>0.374008</td>\n",
       "    </tr>\n",
       "    <tr>\n",
       "      <th>depress</th>\n",
       "      <td>-1.098669</td>\n",
       "      <td>-1.022491</td>\n",
       "      <td>-1.353772</td>\n",
       "      <td>-2.082869</td>\n",
       "      <td>-1.199755</td>\n",
       "      <td>-0.110646</td>\n",
       "      <td>1.156238</td>\n",
       "      <td>-0.887470</td>\n",
       "      <td>2.172702</td>\n",
       "      <td>0.714289</td>\n",
       "      <td>...</td>\n",
       "      <td>-0.327113</td>\n",
       "      <td>-0.025306</td>\n",
       "      <td>-0.187666</td>\n",
       "      <td>0.595404</td>\n",
       "      <td>0.282716</td>\n",
       "      <td>-2.097348</td>\n",
       "      <td>-0.750469</td>\n",
       "      <td>0.707328</td>\n",
       "      <td>-0.702710</td>\n",
       "      <td>1.245831</td>\n",
       "    </tr>\n",
       "  </tbody>\n",
       "</table>\n",
       "<p>5 rows × 100 columns</p>\n",
       "</div>"
      ],
      "text/plain": [
       "                  0         1         2         3         4         5   \\\n",
       "disappoint -0.235032 -1.696048 -0.039209 -1.006235 -0.968943  0.117551   \n",
       "annoy      -0.509595 -0.234477 -0.105023  0.782759 -0.494718  1.529665   \n",
       "sad        -1.898635 -1.546651 -2.232050 -1.308777 -2.300616 -1.701346   \n",
       "upset      -2.267228 -1.130764 -0.789428 -0.307305 -1.913559 -1.307800   \n",
       "depress    -1.098669 -1.022491 -1.353772 -2.082869 -1.199755 -0.110646   \n",
       "\n",
       "                  6         7         8         9     ...           90  \\\n",
       "disappoint  2.012763 -1.500448  0.371111 -0.103024    ...    -1.867966   \n",
       "annoy       0.613385 -2.956682  1.914651  1.837232    ...     0.357051   \n",
       "sad         1.833377 -2.087411  3.237246  1.261848    ...    -2.272781   \n",
       "upset       1.678527 -2.597203  1.749868 -0.047062    ...    -1.734596   \n",
       "depress     1.156238 -0.887470  2.172702  0.714289    ...    -0.327113   \n",
       "\n",
       "                  91        92        93        94        95        96  \\\n",
       "disappoint  0.366410 -1.687534  1.776099 -0.001948 -0.942753 -0.323758   \n",
       "annoy      -0.184894 -0.765359  0.194613 -0.089562 -0.790999 -0.715266   \n",
       "sad        -0.856920 -1.243649  1.936533 -1.742093 -2.664801 -1.754375   \n",
       "upset       0.064607 -2.011217  0.364249 -1.385140 -1.366344 -0.929015   \n",
       "depress    -0.025306 -0.187666  0.595404  0.282716 -2.097348 -0.750469   \n",
       "\n",
       "                  97        98        99  \n",
       "disappoint  0.418799  0.703646  0.675984  \n",
       "annoy       1.710391 -0.664831  0.446600  \n",
       "sad        -0.204359 -0.364142  2.144544  \n",
       "upset       0.583783 -0.106717  0.374008  \n",
       "depress     0.707328 -0.702710  1.245831  \n",
       "\n",
       "[5 rows x 100 columns]"
      ]
     },
     "execution_count": 245,
     "metadata": {},
     "output_type": "execute_result"
    }
   ],
   "source": [
    "wv_df[clustered_wv_df.labels_ == 1].head()"
   ]
  },
  {
   "cell_type": "markdown",
   "metadata": {
    "slideshow": {
     "slide_type": "slide"
    }
   },
   "source": [
    "# The Data"
   ]
  },
  {
   "cell_type": "markdown",
   "metadata": {
    "slideshow": {
     "slide_type": "-"
    }
   },
   "source": [
    "<center><img src=\"./images/twitter_logo.png\"></center>"
   ]
  },
  {
   "cell_type": "markdown",
   "metadata": {
    "slideshow": {
     "slide_type": "slide"
    }
   },
   "source": [
    "# Sentiment140\n",
    "\n",
    "Twitter sentiment dataset"
   ]
  },
  {
   "cell_type": "markdown",
   "metadata": {
    "slideshow": {
     "slide_type": "slide"
    }
   },
   "source": [
    "# My Approach"
   ]
  },
  {
   "cell_type": "markdown",
   "metadata": {
    "slideshow": {
     "slide_type": "fragment"
    }
   },
   "source": [
    "Logistic Regression with Bag of Words"
   ]
  },
  {
   "cell_type": "markdown",
   "metadata": {
    "slideshow": {
     "slide_type": "fragment"
    }
   },
   "source": [
    "Neural Network with Word Embeddings"
   ]
  },
  {
   "cell_type": "markdown",
   "metadata": {
    "slideshow": {
     "slide_type": "slide"
    }
   },
   "source": [
    "# Logistic Regression"
   ]
  },
  {
   "cell_type": "markdown",
   "metadata": {
    "slideshow": {
     "slide_type": "-"
    }
   },
   "source": [
    "\\begin{eqnarray}\n",
    "g(X) &=& \\alpha + \\beta_0 X_0 + \\cdots + \\beta_n X_N \\\\\n",
    "F(X) &=& \\frac{1}{1 + e^{-g(X)}}\n",
    "\\end{eqnarray}"
   ]
  },
  {
   "cell_type": "markdown",
   "metadata": {
    "slideshow": {
     "slide_type": "fragment"
    }
   },
   "source": [
    "Friendly, familiar linear model"
   ]
  },
  {
   "cell_type": "markdown",
   "metadata": {
    "slideshow": {
     "slide_type": "fragment"
    }
   },
   "source": [
    "Easy to interpret and understand"
   ]
  },
  {
   "cell_type": "markdown",
   "metadata": {
    "slideshow": {
     "slide_type": "slide"
    }
   },
   "source": [
    "# Logistic Regression Coefficients\n",
    "\n",
    "<center>\n",
    "<img src=\"./images/logistic_regression_coefficients.png\" alt=\"logistic_regression_coefficients\" style=\"width:800px;\"/>\n",
    "</center>"
   ]
  },
  {
   "cell_type": "markdown",
   "metadata": {
    "slideshow": {
     "slide_type": "slide"
    }
   },
   "source": [
    "# Results"
   ]
  },
  {
   "cell_type": "markdown",
   "metadata": {
    "slideshow": {
     "slide_type": "fragment"
    }
   },
   "source": [
    "<img src=\"./images/is_logistic_model.png\" alt=\"Logistic Regression Accuracy\" style=\"width: 800px;\"/>"
   ]
  },
  {
   "cell_type": "markdown",
   "metadata": {
    "slideshow": {
     "slide_type": "fragment"
    }
   },
   "source": [
    "<img src=\"./images/oos_logistic_model.png\" alt=\"Logistic Regression Accuracy\" style=\"width: 800px;\"/>"
   ]
  },
  {
   "cell_type": "markdown",
   "metadata": {
    "slideshow": {
     "slide_type": "slide"
    }
   },
   "source": [
    "# Neural Networks"
   ]
  },
  {
   "cell_type": "markdown",
   "metadata": {
    "slideshow": {
     "slide_type": "-"
    }
   },
   "source": [
    "<center>\n",
    "<img src=\"./images/basic_neural_network.png\" alt=\"Neural Network\" style=\"width: 400px;\"/>\n",
    "</center>"
   ]
  },
  {
   "cell_type": "markdown",
   "metadata": {
    "slideshow": {
     "slide_type": "slide"
    }
   },
   "source": [
    "# Neural Networks"
   ]
  },
  {
   "cell_type": "markdown",
   "metadata": {
    "slideshow": {
     "slide_type": "-"
    }
   },
   "source": [
    "<center>\n",
    "<img src=\"./images/neural_network.png\" alt=\"Neural Network\" style=\"width: 400px;\"/>\n",
    "</center>"
   ]
  },
  {
   "cell_type": "markdown",
   "metadata": {
    "slideshow": {
     "slide_type": "slide"
    }
   },
   "source": [
    "# Recurrent Neural Networks"
   ]
  },
  {
   "cell_type": "markdown",
   "metadata": {
    "slideshow": {
     "slide_type": "-"
    }
   },
   "source": [
    "<center>\n",
    "<img src=\"./images/recurrent_neural_network.png\" alt=\"Recurrent Neural Network\" style=\"width: 400px;\"/>\n",
    "</center>"
   ]
  },
  {
   "cell_type": "markdown",
   "metadata": {
    "slideshow": {
     "slide_type": "slide"
    }
   },
   "source": [
    "# Recurrent Neural Networks\n",
    "\n",
    "Recurrent neural networks good for text processing"
   ]
  },
  {
   "cell_type": "markdown",
   "metadata": {
    "slideshow": {
     "slide_type": "fragment"
    }
   },
   "source": [
    "View sentences as sequences of words (similar to time series structure)"
   ]
  },
  {
   "cell_type": "markdown",
   "metadata": {
    "slideshow": {
     "slide_type": "slide"
    }
   },
   "source": [
    "# Long Short-term Memory Networks"
   ]
  },
  {
   "cell_type": "markdown",
   "metadata": {
    "slideshow": {
     "slide_type": "-"
    }
   },
   "source": [
    "<center>\n",
    "<img src=\"./images/lstm.svg\" alt=\"Long Short-term Memory Network\" style=\"width: 800px;\"/>\n",
    "</center>"
   ]
  },
  {
   "cell_type": "markdown",
   "metadata": {
    "slideshow": {
     "slide_type": "slide"
    }
   },
   "source": [
    "# Long Short-term Memory Networks\n",
    "\n",
    "In Keras this is simple to implement"
   ]
  },
  {
   "cell_type": "code",
   "execution_count": null,
   "metadata": {
    "collapsed": true,
    "slideshow": {
     "slide_type": "-"
    }
   },
   "outputs": [],
   "source": [
    "input_layer = Input(shape=(MAX_WORDS,))\n",
    "embedding_layer = Embedding(max_features+1,\n",
    "                            embedding_dim,\n",
    "                            input_length=MAX_WORDS)(input_layer)\n",
    "lstm_layer = LSTM(64,\n",
    "                  dropout=DROPOUT,\n",
    "                  activation='tanh',\n",
    "                  return_sequences=True)(embedding_layer)\n",
    "lstm_layer = LSTM(128,\n",
    "                  dropout=DROPOUT,\n",
    "                  activation='tanh')(lstm_layer)\n",
    "output = Dense(1,\n",
    "               activation='sigmoid',\n",
    "               name='sentiment')(lstm_layer)"
   ]
  },
  {
   "cell_type": "markdown",
   "metadata": {
    "slideshow": {
     "slide_type": "slide"
    }
   },
   "source": [
    "# Results"
   ]
  },
  {
   "cell_type": "markdown",
   "metadata": {
    "slideshow": {
     "slide_type": "fragment"
    }
   },
   "source": [
    "<center>\n",
    "<img src=\"./images/nn_training.png\" alt=\"Neural Network Training\" style=\"width: 800px;\"/>\n",
    "</center>"
   ]
  },
  {
   "cell_type": "markdown",
   "metadata": {
    "slideshow": {
     "slide_type": "slide"
    }
   },
   "source": [
    "<center>\n",
    "<img src=\"./images/presidential_seal.png\" alt=\"USA\" style=\"width: 400px;\"/>\n",
    "</center>"
   ]
  },
  {
   "cell_type": "markdown",
   "metadata": {
    "slideshow": {
     "slide_type": "slide"
    }
   },
   "source": [
    "# How to Compute A Signal?\n",
    "\n",
    "Hypothesis: POTUS's tweets affect the market"
   ]
  },
  {
   "cell_type": "markdown",
   "metadata": {
    "slideshow": {
     "slide_type": "slide"
    }
   },
   "source": [
    "# Precedent"
   ]
  },
  {
   "cell_type": "markdown",
   "metadata": {
    "slideshow": {
     "slide_type": "fragment"
    }
   },
   "source": [
    "Trump2Cash: https://github.com/maxbbraun/trump2cash\n",
    "* Waits for the president to mention publicly-traded companies\n",
    "* Uses sentiment analysis to determine positivity or negativity\n",
    "* Enters long or short positions based on sentiment"
   ]
  },
  {
   "cell_type": "markdown",
   "metadata": {
    "slideshow": {
     "slide_type": "fragment"
    }
   },
   "source": [
    "BOTUS: https://twitter.com/botus\n",
    "* Waits for the president to mention publicly-traded companies\n",
    "* Uses sentiment analysis to determine positivity or negativity\n",
    "* Enters long or short positions based on sentiment"
   ]
  },
  {
   "cell_type": "markdown",
   "metadata": {
    "slideshow": {
     "slide_type": "fragment"
    }
   },
   "source": [
    "Trump & Dump: https://www.t-3.com/work/the-trump-and-dump-bot-analyze-tweets-short-stocks-save-puppies-all-in-seconds\n",
    "* Waits for the president to mention publicly-traded companies\n",
    "* Uses sentiment analysis to determine positivity or negativity\n",
    "* Enters short positions based if sentiment is negative"
   ]
  },
  {
   "cell_type": "markdown",
   "metadata": {
    "slideshow": {
     "slide_type": "slide"
    }
   },
   "source": [
    "# Factor Models\n",
    "\n",
    "CAPM\n",
    "\n",
    "$$ r_p = \\alpha + \\beta_{m} r_{m} $$\n",
    "\n",
    "Fama-French Factors\n",
    "\n",
    "$$ r_p = \\alpha + \\beta_{m} r_{m} + \\beta_{hml} r_{hml} + \\beta_{smb} r_{smb} $$\n",
    "\n",
    "Alternative Factors\n",
    "\n",
    "$$ r_p = \\alpha + \\beta_0 r_0 + \\cdots + \\beta_n r_n $$"
   ]
  },
  {
   "cell_type": "markdown",
   "metadata": {
    "slideshow": {
     "slide_type": "slide"
    }
   },
   "source": [
    "# Risk Modeling"
   ]
  },
  {
   "cell_type": "markdown",
   "metadata": {
    "slideshow": {
     "slide_type": "-"
    }
   },
   "source": [
    "<img src=\"./images/risk_modeling.png\" alt=\"Risk Modeling\" style=\"width: 800px;\"/>"
   ]
  },
  {
   "cell_type": "markdown",
   "metadata": {
    "slideshow": {
     "slide_type": "slide"
    }
   },
   "source": [
    "# Cross-sectional Equity Portfolios"
   ]
  },
  {
   "cell_type": "markdown",
   "metadata": {
    "slideshow": {
     "slide_type": "-"
    }
   },
   "source": [
    "<img src=\"./images/long_short_equity_toy_example.png\" alt=\"Mean Return Buckets\" style=\"width: 800px;\"/>"
   ]
  },
  {
   "cell_type": "markdown",
   "metadata": {
    "slideshow": {
     "slide_type": "slide"
    }
   },
   "source": [
    "## Average Sentiment Each Day\n",
    "\n",
    "<img src=\"./images/daily_trump_sentiment.png\" alt=\"Sentiment Score\" style=\"width: 800px;\"/>"
   ]
  },
  {
   "cell_type": "markdown",
   "metadata": {
    "slideshow": {
     "slide_type": "slide"
    }
   },
   "source": [
    "## Sentiment Exposure Signal\n",
    "\n",
    "<img src=\"./images/returns_buckets_trump.png\" alt=\"Mean Return Buckets\" style=\"width: 800px;\"/>"
   ]
  },
  {
   "cell_type": "markdown",
   "metadata": {
    "slideshow": {
     "slide_type": "slide"
    }
   },
   "source": [
    "## Sentiment Exposure Signal\n",
    "\n",
    "<img src=\"./images/cumulative_return_trump.png\" alt=\"Cumulative Returns\" style=\"width: 800px;\"/>"
   ]
  },
  {
   "cell_type": "markdown",
   "metadata": {
    "slideshow": {
     "slide_type": "slide"
    }
   },
   "source": [
    "## Sentiment Exposure Signal\n",
    "\n",
    "<img src=\"./images/cumulative_return_quantiles_trump.png\" alt=\"Cumulative Return Buckets\" style=\"width: 800px;\"/>"
   ]
  },
  {
   "cell_type": "markdown",
   "metadata": {
    "slideshow": {
     "slide_type": "slide"
    }
   },
   "source": [
    "## Performance Attribution"
   ]
  },
  {
   "cell_type": "markdown",
   "metadata": {
    "slideshow": {
     "slide_type": "-"
    }
   },
   "source": [
    "<img src=\"./images/risk_exposures_trump.png\" alt=\"Risk Exposures\" style=\"width: 800px;\"/>"
   ]
  },
  {
   "cell_type": "markdown",
   "metadata": {
    "slideshow": {
     "slide_type": "slide"
    }
   },
   "source": [
    "## Performance Attribution"
   ]
  },
  {
   "cell_type": "markdown",
   "metadata": {
    "slideshow": {
     "slide_type": "-"
    }
   },
   "source": [
    "<center>\n",
    "<img src=\"./images/summary_stats_trump.png\" alt=\"Common and Specific Returns\" style=\"width: 250px;\"/>\n",
    "</center>"
   ]
  },
  {
   "cell_type": "markdown",
   "metadata": {
    "slideshow": {
     "slide_type": "slide"
    }
   },
   "source": [
    "## Performance Attribution"
   ]
  },
  {
   "cell_type": "markdown",
   "metadata": {
    "slideshow": {
     "slide_type": "-"
    }
   },
   "source": [
    "<img src=\"./images/returns_decomp_trump.png\" alt=\"Common and Specific Returns\" style=\"width: 800px;\"/>"
   ]
  },
  {
   "cell_type": "markdown",
   "metadata": {
    "slideshow": {
     "slide_type": "slide"
    }
   },
   "source": [
    "## Possible Improvements\n",
    "\n",
    "### Sentiment Model\n",
    "* Lemmatization instead of Stemming\n",
    "* Sense2Vec\n",
    "\n",
    "### The Signal\n",
    "* Change of maximum character count in tweets\n",
    "* More sophisticated factor than beta exposure to sentiment\n",
    "* Perhaps using it as a pure risk factor rather than an alpha factor"
   ]
  },
  {
   "cell_type": "markdown",
   "metadata": {
    "slideshow": {
     "slide_type": "slide"
    }
   },
   "source": [
    "## Tools\n",
    "\n",
    "* Natural Language Toolkit (NLTK): http://www.nltk.org/\n",
    "* scikit-learn: https://github.com/scikit-learn/scikit-learn\n",
    "* Gensim: https://github.com/RaRe-Technologies/gensim\n",
    "* Keras: https://github.com/fchollet/keras\n",
    "* Alphalens: https://github.com/quantopian/alphalens\n",
    "* Pyfolio: https://github.com/quantopian/pyfolio\n",
    "\n",
    "\n",
    "* Quantopian Lecture Series: https://quantopian.com/lectures\n",
    "* Quantopian Research: https://quantopian.com/research\n",
    "\n",
    "## References\n",
    "\n",
    "* Go, A., Bhayani, R. and Huang, L., 2009. Twitter sentiment classification using distant supervision. CS224N Project Report, Stanford, 1(2009), p.12.\n",
    "    * http://www.sentiment140.com/"
   ]
  },
  {
   "cell_type": "markdown",
   "metadata": {
    "slideshow": {
     "slide_type": "slide"
    }
   },
   "source": [
    "<div style=\"text-align:center\">\n",
    "    <center><img src=\"./images/twitter_logo.png\" alt='Twitter' style=\"width: 50px;\"/></center>\n",
    "    <h3>@clean_utensils</h3>\n",
    "</div>\n",
    "\n",
    "<div style=\"text-align:center\">\n",
    "    <center><img src=\"./images/github_logo.png\" alt=\"Github\" style=\"width: 50px;\"/></center>\n",
    "    <h3>@mmargenot</h3>\n",
    "</div>\n",
    "\n",
    "<div style=\"text-align:center\">\n",
    "    <center><img src=\"./images/logo-q-press-logo-red.png\" alt=\"Quantopian\" style=\"width: 100px;\"/></center>\n",
    "    <h3>max@quantopian.com</h3>\n",
    "</div>"
   ]
  },
  {
   "cell_type": "markdown",
   "metadata": {
    "slideshow": {
     "slide_type": "slide"
    }
   },
   "source": [
    "*This presentation is for informational purposes only and does not constitute an offer to sell, a solicitation to buy, or a recommendation for any security; nor does it constitute an offer to provide investment advisory or other services by Quantopian, Inc. (\"Quantopian\"). Nothing contained herein constitutes investment advice or offers any opinion with respect to the suitability of any security, and any views expressed herein should not be taken as advice to buy, sell, or hold any security or as an endorsement of any security or company. In preparing the information contained herein, Quantopian, Inc. has not taken into account the investment needs, objectives, and financial circumstances of any particular investor. Any views expressed and data illustrated herein were prepared based upon information, believed to be reliable, available to Quantopian, Inc. at the time of publication. Quantopian makes no guarantees as to their accuracy or completeness. All information is subject to change and may quickly become unreliable for various reasons, including changes in market conditions or economic circumstances.*"
   ]
  },
  {
   "cell_type": "code",
   "execution_count": 4,
   "metadata": {
    "slideshow": {
     "slide_type": "skip"
    }
   },
   "outputs": [
    {
     "name": "stdout",
     "output_type": "stream",
     "text": [
      "[NbConvertApp] Converting notebook ./Buying_Happiness_Talk.ipynb to slides\n",
      "[NbConvertApp] Writing 540146 bytes to ./Buying_Happiness_Talk.slides.html\n"
     ]
    }
   ],
   "source": [
    "!jupyter nbconvert --to slides ./Buying_Happiness_Talk.ipynb --reveal-prefix ./reveal.js"
   ]
  },
  {
   "cell_type": "code",
   "execution_count": null,
   "metadata": {
    "collapsed": true,
    "slideshow": {
     "slide_type": "skip"
    }
   },
   "outputs": [],
   "source": []
  }
 ],
 "metadata": {
  "celltoolbar": "Slideshow",
  "kernelspec": {
   "display_name": "Python 2",
   "language": "python",
   "name": "python2"
  },
  "language_info": {
   "codemirror_mode": {
    "name": "ipython",
    "version": 3
   },
   "file_extension": ".py",
   "mimetype": "text/x-python",
   "name": "python",
   "nbconvert_exporter": "python",
   "pygments_lexer": "ipython3",
   "version": "3.5.6"
  }
 },
 "nbformat": 4,
 "nbformat_minor": 2
}
